{
 "cells": [
  {
   "cell_type": "code",
   "execution_count": null,
   "id": "b2b0e5ac",
   "metadata": {},
   "outputs": [
    {
     "name": "stdout",
     "output_type": "stream",
     "text": [
      "Starting run********\n",
      "target  7\n",
      "low  0\n",
      "high  9\n",
      "mid  5\n",
      "Starting run********\n",
      "target  7\n",
      "low  5\n",
      "high  9\n",
      "mid  8\n",
      "Starting run********\n",
      "target  7\n",
      "low  5\n",
      "high  6\n",
      "mid  6\n",
      "Starting run********\n",
      "target  7\n",
      "low  6\n",
      "high  6\n",
      "mid  7\n",
      "Test array:  [1, 2, 3, 4, 5, 6, 7, 8, 9, 10]\n",
      "Element found at index 6\n"
     ]
    }
   ],
   "source": [
    "def binary_search(arr, target):\n",
    "    def recursive_binary_search(arr, target, low, high):\n",
    "        print(\"Starting run********\")\n",
    "        print(\"target \", target)\n",
    "        print(\"low \", low)\n",
    "        print(\"high \", high)\n",
    "        # if base case condition return \n",
    "        if low > high:\n",
    "            return -1\n",
    "        # else call self with value    \n",
    "        mid = (low + high) // 2\n",
    "        print(\"mid \", arr[mid])\n",
    "        if arr[mid] == target:\n",
    "            return mid  # yay found it \n",
    "        elif arr[mid] < target:\n",
    "            return recursive_binary_search(arr, target, mid + 1, high)\n",
    "        else:\n",
    "            return recursive_binary_search(arr, target, low, mid - 1)\n",
    "\n",
    "    return recursive_binary_search(arr, target, 0, len(arr) - 1)\n",
    "\n",
    "# test cases\n",
    "arr = [1, 2, 3, 4, 5, 6, 7, 8, 9, 10]\n",
    "target = 7\n",
    "print(\"Test array: \", arr)\n",
    "print(\"Target to find: \", target)\n",
    "result = binary_search(arr, target)\n",
    "if result != -1:\n",
    "    print(f\"Element found at index {result}\")\n",
    "else:\n",
    "    print(\"Element not found in array\")\n"
   ]
  }
 ],
 "metadata": {
  "kernelspec": {
   "display_name": "base",
   "language": "python",
   "name": "python3"
  },
  "language_info": {
   "codemirror_mode": {
    "name": "ipython",
    "version": 3
   },
   "file_extension": ".py",
   "mimetype": "text/x-python",
   "name": "python",
   "nbconvert_exporter": "python",
   "pygments_lexer": "ipython3",
   "version": "3.13.5"
  }
 },
 "nbformat": 4,
 "nbformat_minor": 5
}
