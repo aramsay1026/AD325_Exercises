{
 "cells": [
  {
   "cell_type": "code",
   "execution_count": null,
   "metadata": {},
   "outputs": [],
   "source": [
    "# count_duplicates\n",
    "# Write a function named count_duplicates that accepts a list of integers as a parameter and that returns the number of duplicate values in the list\n",
    "def count_duplicates(list):\n",
    "    seen = [];\n",
    "    duplicates = 0; \n",
    "    # loop through each value in list \n",
    "    for num in list: \n",
    "        # have we seen this value before, if so decrement duplicates\n",
    "        if num in seen: \n",
    "            duplicates += 1\n",
    "        else:\n",
    "            # once we've iterated through the value we consider it \"seen\"\n",
    "            # add it to seen array\n",
    "            seen.append(num)\n",
    "\n",
    "    return duplicates\n",
    "\n",
    "# test cases\n",
    "list_1 = [1, 3, 7, 2, 4, 5, 1, 1]\n",
    "list_2 = [4, 5, 5, 2]\n",
    "list_3 = [0]\n",
    "list_4 = [3, 8, 9]\n",
    "list_5 = [5, 2, 5, 5, 4]\n",
    "\n",
    "# running test cases\n",
    "first_run = count_duplicates(list_1)\n",
    "print(\"Run of first test case, \" + str(first_run) + \" duplicates found.\")\n",
    "\n",
    "second_run = count_duplicates(list_2)\n",
    "print(\"Run of second test case, \" + str(second_run) + \" duplicates found.\")\n",
    "\n",
    "count_duplicates(list_2)\n",
    "third_run = count_duplicates(list_3)\n",
    "print(\"Run of third test case, \" + str(third_run) + \" duplicates found.\")\n",
    "\n",
    "fourth_run = count_duplicates(list_4)\n",
    "print(\"Run of fourth test case,  \" + str(fourth_run) + \" duplicates found.\")\n",
    "\n",
    "fifth_run = count_duplicates(list_5)\n",
    "print(\"Run of fifth test case,  \" + str(fifth_run) + \" duplicates found.\")\n",
    "\n",
    "\n"
   ]
  },
  {
   "cell_type": "code",
   "execution_count": null,
   "metadata": {},
   "outputs": [
    {
     "name": "stdout",
     "output_type": "stream",
     "text": [
      "False\n",
      "True\n",
      "False\n",
      "True\n",
      "True\n"
     ]
    }
   ],
   "source": [
    "# is_stack_sorted\n",
    "# Write a function named is_stack_sorted that accepts a stack of integers as a parameter and that returns True if the values in the stack are sorted in ascending order, and False otherwise. \n",
    "def is_stack_sorted(stack):\n",
    "    # if stack is one or smaller we consider it sorted\n",
    "    if len(stack) <= 1:\n",
    "        return True\n",
    "    # create temporary stack for storage\n",
    "    temp_stack = []\n",
    "    # keep track of the first value in the stack\n",
    "    previous = stack.pop()\n",
    "    # add it to temporary stack\n",
    "    temp_stack.append(previous)\n",
    "    # create a flag for if the stack is sorted \n",
    "    # this will be true until proven false \n",
    "    is_sorted = True\n",
    "    while(len(stack)):\n",
    "        current = stack.pop()\n",
    "        temp_stack.append(current)\n",
    "\n",
    "        if current < previous:\n",
    "            is_sorted = False\n",
    "        previous = current\n",
    "    while(len(temp_stack)):\n",
    "        value = temp_stack.pop()\n",
    "        stack.append(value)\n",
    "\n",
    "    return is_sorted\n",
    "\n",
    "\n",
    "\n",
    "# test cases\n",
    "stack_1 = [1, 2, 3, 4, 5]\n",
    "stack_2 = [5, 4, 3, 2, 1]\n",
    "stack_3 = [1, 3, 2, 4, 5]\n",
    "stack_4 = [1]\n",
    "stack_5 = []            \n",
    "\n",
    "print(is_stack_sorted(stack_1)) # True\n",
    "print(is_stack_sorted(stack_2)) # False\n",
    "print(is_stack_sorted(stack_3)) # False\n",
    "print(is_stack_sorted(stack_4)) # True\n",
    "print(is_stack_sorted(stack_5)) # True  "
   ]
  },
  {
   "cell_type": "code",
   "execution_count": null,
   "metadata": {},
   "outputs": [
    {
     "name": "stdout",
     "output_type": "stream",
     "text": [
      "5\n",
      "5\n",
      "1\n",
      "4\n",
      "8\n"
     ]
    }
   ],
   "source": [
    "# median\n",
    "# Write a function named median that accepts a list of integers as a parameter and that returns the median value in the list. You may assume that the list contains an odd number of elements.\n",
    "def median(list):\n",
    "    # first I will sort all of the items in the list using selection sort\n",
    "    # they need to be in sequential order so I can find the middle value \n",
    "    for i in range(len(list)):\n",
    "        min_index = i\n",
    "        for j in range(i + 1, len(list)):\n",
    "            if list[j] < list[min_index]:\n",
    "                min_index = j \n",
    "        list[i], list[min_index] = list[min_index], list[i] \n",
    "\n",
    "    median = len(list) // 2 \n",
    "\n",
    "    return list[median]   \n",
    "\n",
    "# test cases\n",
    "list_1 = [7, 1, 3, 5, 9]\n",
    "list_2 = [8, 3, 5, 2, 5, 7, 1]\n",
    "list_3 = [1]\n",
    "list_4 = [4, 2]\n",
    "list_5 = [6, 2, 8, 4, 10, 12]\n",
    "\n",
    "print(median(list_1)) # 5\n",
    "print(median(list_2)) # 5\n",
    "print(median(list_3)) # 1\n",
    "print(median(list_4)) # 4\n",
    "print(median(list_5)) # 8\n"
   ]
  }
 ],
 "metadata": {
  "kernelspec": {
   "display_name": "base",
   "language": "python",
   "name": "python3"
  },
  "language_info": {
   "codemirror_mode": {
    "name": "ipython",
    "version": 3
   },
   "file_extension": ".py",
   "mimetype": "text/x-python",
   "name": "python",
   "nbconvert_exporter": "python",
   "pygments_lexer": "ipython3",
   "version": "3.13.5"
  },
  "orig_nbformat": 4
 },
 "nbformat": 4,
 "nbformat_minor": 2
}
