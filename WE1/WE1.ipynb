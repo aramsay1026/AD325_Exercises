{
 "cells": [
  {
   "cell_type": "code",
   "execution_count": 12,
   "id": "11742463",
   "metadata": {},
   "outputs": [
    {
     "name": "stdout",
     "output_type": "stream",
     "text": [
      "5\n",
      "This problem has a O(log N) runtime complexity\n"
     ]
    }
   ],
   "source": [
    "## Question 1: Big-O Example\n",
    "n = 16\n",
    "sum = 0\n",
    "j = 1\n",
    "while j <= n:\n",
    "    sum += 1\n",
    "    j *= 2\n",
    "print(sum)\n",
    "print(\"This problem has a O(log N) runtime complexity\")"
   ]
  },
  {
   "cell_type": "code",
   "execution_count": 13,
   "id": "a40b86f4",
   "metadata": {},
   "outputs": [
    {
     "name": "stdout",
     "output_type": "stream",
     "text": [
      "22\n",
      "This problem has a O(N) runtime complexity\n"
     ]
    }
   ],
   "source": [
    "## Question 2: Big-O Example\n",
    "sum = 0\n",
    "for j in range(1, n):\n",
    "    sum += 1\n",
    "    if j % 2 == 0:\n",
    "        sum += 1\n",
    "print(sum)\n",
    "print(\"This problem has a O(N) runtime complexity\")"
   ]
  },
  {
   "cell_type": "code",
   "execution_count": 14,
   "id": "7af8f9f4",
   "metadata": {},
   "outputs": [
    {
     "name": "stdout",
     "output_type": "stream",
     "text": [
      "710\n",
      "This problem has a O(N^2) runtime complexity\n"
     ]
    }
   ],
   "source": [
    "## Question 3: Big-O Example\n",
    "n = 16\n",
    "sum = 0\n",
    "for i in range(1, n * 2 + 1):\n",
    "    for j in range(1, n + 1):\n",
    "        sum += 1\n",
    "\n",
    "for j in range(1, 100):\n",
    "    sum += 1\n",
    "    sum += 1\n",
    "print(sum)\n",
    "print(\"This problem has a O(N^2) runtime complexity\")\n"
   ]
  },
  {
   "cell_type": "code",
   "execution_count": 15,
   "id": "881a2c4d",
   "metadata": {},
   "outputs": [
    {
     "name": "stdout",
     "output_type": "stream",
     "text": [
      "336\n",
      "This problem has a O(N^2) runtime complexity\n"
     ]
    }
   ],
   "source": [
    "## Question 4: Big-O Example\n",
    "n = 16\n",
    "sum = 0\n",
    "for i in range(1, n + 1):\n",
    "    for j in range(1, i + 1, 2):\n",
    "        sum += 4\n",
    "for k in range(-50, -2):\n",
    "    sum += 1\n",
    "print(sum)\n",
    "print(\"This problem has a O(N^2) runtime complexity\")"
   ]
  }
 ],
 "metadata": {
  "kernelspec": {
   "display_name": "base",
   "language": "python",
   "name": "python3"
  },
  "language_info": {
   "codemirror_mode": {
    "name": "ipython",
    "version": 3
   },
   "file_extension": ".py",
   "mimetype": "text/x-python",
   "name": "python",
   "nbconvert_exporter": "python",
   "pygments_lexer": "ipython3",
   "version": "3.13.5"
  }
 },
 "nbformat": 4,
 "nbformat_minor": 5
}
